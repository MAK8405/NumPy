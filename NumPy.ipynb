{
 "cells": [
  {
   "cell_type": "markdown",
   "id": "a886abc5",
   "metadata": {},
   "source": [
    "# NumPy"
   ]
  },
  {
   "cell_type": "markdown",
   "id": "3e1aeca9",
   "metadata": {},
   "source": [
    "## 1D and 2D Arrays"
   ]
  },
  {
   "cell_type": "code",
   "execution_count": 68,
   "id": "62b0e6dd",
   "metadata": {},
   "outputs": [
    {
     "name": "stdout",
     "output_type": "stream",
     "text": [
      "[1 2 3]\n",
      "(3,)\n"
     ]
    }
   ],
   "source": [
    "import numpy as np\n",
    "\n",
    "a = np.array([1, 2, 3])\n",
    "\n",
    "print(a)\n",
    "\n",
    "print(a.shape)"
   ]
  },
  {
   "cell_type": "code",
   "execution_count": 69,
   "id": "9d557dd0",
   "metadata": {},
   "outputs": [
    {
     "name": "stdout",
     "output_type": "stream",
     "text": [
      "(4,)\n"
     ]
    }
   ],
   "source": [
    "import numpy as np\n",
    "\n",
    "a = np.array([1, 1, 2, 3])\n",
    "\n",
    "print(a.shape)"
   ]
  },
  {
   "cell_type": "code",
   "execution_count": 70,
   "id": "ace21763",
   "metadata": {},
   "outputs": [
    {
     "data": {
      "text/plain": [
       "'\\nlist of lists\\n[[1,2,3],\\n [4,5,6]]\\n\\n'"
      ]
     },
     "execution_count": 70,
     "metadata": {},
     "output_type": "execute_result"
    }
   ],
   "source": [
    "\"\"\"\n",
    "\n",
    "A Table:\n",
    "[1,2,3]\n",
    "[4,5,6]\n",
    "\n",
    "\"\"\"\n",
    "\n",
    "\"\"\"\n",
    "list of lists\n",
    "[[1,2,3],\n",
    " [4,5,6]]\n",
    "\n",
    "\"\"\""
   ]
  },
  {
   "cell_type": "code",
   "execution_count": 71,
   "id": "5fa688e4",
   "metadata": {},
   "outputs": [
    {
     "name": "stdout",
     "output_type": "stream",
     "text": [
      "[[1 2 3]\n",
      " [4 5 6]]\n",
      "(2, 3)\n"
     ]
    }
   ],
   "source": [
    "import numpy as np\n",
    "\n",
    "b = np.array([[1, 2, 3], [4, 5, 6]])\n",
    "\n",
    "print(b)\n",
    "\n",
    "print(b.shape)"
   ]
  },
  {
   "cell_type": "code",
   "execution_count": 72,
   "id": "8b7fd96f",
   "metadata": {},
   "outputs": [
    {
     "name": "stdout",
     "output_type": "stream",
     "text": [
      "[[1.1 2.  3. ]\n",
      " [4.  5.1 6. ]]\n"
     ]
    }
   ],
   "source": [
    "import numpy as np\n",
    "\n",
    "c = np.array([[1.1, 2, 3], [4, 5.1, 6]])\n",
    "\n",
    "print(c)"
   ]
  },
  {
   "cell_type": "code",
   "execution_count": 73,
   "id": "a621a390",
   "metadata": {},
   "outputs": [
    {
     "name": "stdout",
     "output_type": "stream",
     "text": [
      "[['1.1' '2' '3']\n",
      " ['True' '5.1' '6']]\n"
     ]
    }
   ],
   "source": [
    "import numpy as np\n",
    "\n",
    "c = np.array([[1.1, 2, 3], [True, 5.1, \"6\"]])\n",
    "\n",
    "print(c)"
   ]
  },
  {
   "cell_type": "markdown",
   "id": "78cfdb44",
   "metadata": {},
   "source": [
    "## NumPy Reshape"
   ]
  },
  {
   "cell_type": "code",
   "execution_count": 74,
   "id": "e0e124e2",
   "metadata": {},
   "outputs": [
    {
     "data": {
      "text/plain": [
       "array([[1, 2],\n",
       "       [3, 4],\n",
       "       [5, 6]])"
      ]
     },
     "execution_count": 74,
     "metadata": {},
     "output_type": "execute_result"
    }
   ],
   "source": [
    "b.reshape((3, 2))"
   ]
  },
  {
   "cell_type": "code",
   "execution_count": 75,
   "id": "0d773a00",
   "metadata": {},
   "outputs": [
    {
     "data": {
      "text/plain": [
       "array([1, 2, 3, 4, 5, 6])"
      ]
     },
     "execution_count": 75,
     "metadata": {},
     "output_type": "execute_result"
    }
   ],
   "source": [
    "b.reshape((6,))"
   ]
  },
  {
   "cell_type": "code",
   "execution_count": 76,
   "id": "64921c74",
   "metadata": {},
   "outputs": [],
   "source": [
    "# This line of code gives us error\n",
    "# b.reshape((5,))"
   ]
  },
  {
   "cell_type": "markdown",
   "id": "ad015144",
   "metadata": {},
   "source": [
    "## Functions for Generating NumPy Arrays"
   ]
  },
  {
   "cell_type": "code",
   "execution_count": 77,
   "id": "589623d9",
   "metadata": {},
   "outputs": [
    {
     "data": {
      "text/plain": [
       "array([[0., 0., 0.],\n",
       "       [0., 0., 0.]])"
      ]
     },
     "execution_count": 77,
     "metadata": {},
     "output_type": "execute_result"
    }
   ],
   "source": [
    "np.zeros((2, 3))"
   ]
  },
  {
   "cell_type": "code",
   "execution_count": 78,
   "id": "93d7b8e9",
   "metadata": {},
   "outputs": [
    {
     "data": {
      "text/plain": [
       "array([[1., 1., 1.],\n",
       "       [1., 1., 1.]])"
      ]
     },
     "execution_count": 78,
     "metadata": {},
     "output_type": "execute_result"
    }
   ],
   "source": [
    "np.ones((2, 3))"
   ]
  },
  {
   "cell_type": "code",
   "execution_count": 79,
   "id": "d414b48b",
   "metadata": {},
   "outputs": [
    {
     "data": {
      "text/plain": [
       "array([[1, 1, 1],\n",
       "       [1, 1, 1]])"
      ]
     },
     "execution_count": 79,
     "metadata": {},
     "output_type": "execute_result"
    }
   ],
   "source": [
    "np.ones((2, 3), dtype=int)"
   ]
  },
  {
   "cell_type": "code",
   "execution_count": 80,
   "id": "533afd38",
   "metadata": {},
   "outputs": [
    {
     "data": {
      "text/plain": [
       "array([1, 2, 3, 4, 5, 6, 7, 8, 9])"
      ]
     },
     "execution_count": 80,
     "metadata": {},
     "output_type": "execute_result"
    }
   ],
   "source": [
    "np.arange(1, 10)\n",
    "# Like numpy range function it goes up until the stopping value -1"
   ]
  },
  {
   "cell_type": "code",
   "execution_count": 81,
   "id": "1994001f",
   "metadata": {},
   "outputs": [
    {
     "data": {
      "text/plain": [
       "array([1, 3, 5, 7, 9])"
      ]
     },
     "execution_count": 81,
     "metadata": {},
     "output_type": "execute_result"
    }
   ],
   "source": [
    "np.arange(1, 10, 2)\n",
    "# 2 means it goes up by twos\n",
    "# Start at 1, go up by two, until it hits 10 - 1"
   ]
  },
  {
   "cell_type": "code",
   "execution_count": 82,
   "id": "ee6c2b39",
   "metadata": {},
   "outputs": [
    {
     "data": {
      "text/plain": [
       "array([ 1.,  2.,  3.,  4.,  5.,  6.,  7.,  8.,  9., 10., 11.])"
      ]
     },
     "execution_count": 82,
     "metadata": {},
     "output_type": "execute_result"
    }
   ],
   "source": [
    "np.linspace(1, 11, num=11)\n",
    "# np.arange is just for int but linspace works well with floating point values\n",
    "# what steps it needed to evenly space 11 numbers between 1 and eleven"
   ]
  },
  {
   "cell_type": "code",
   "execution_count": 83,
   "id": "45b7dca5",
   "metadata": {},
   "outputs": [
    {
     "data": {
      "text/plain": [
       "array([ 1. ,  2.1,  3.2,  4.3,  5.4,  6.5,  7.6,  8.7,  9.8, 10.9, 12. ])"
      ]
     },
     "execution_count": 83,
     "metadata": {},
     "output_type": "execute_result"
    }
   ],
   "source": [
    "np.linspace(1, 12, num=11)\n",
    "# np.arange is just for int but linspace works well with floating point values\n",
    "# what steps it needed to evenly space 11 numbers between 1 and eleven"
   ]
  },
  {
   "cell_type": "markdown",
   "id": "41cd98dd",
   "metadata": {},
   "source": [
    "## Indexing"
   ]
  },
  {
   "cell_type": "code",
   "execution_count": 84,
   "id": "14a6da8f",
   "metadata": {},
   "outputs": [
    {
     "data": {
      "text/plain": [
       "array([1, 2, 3])"
      ]
     },
     "execution_count": 84,
     "metadata": {},
     "output_type": "execute_result"
    }
   ],
   "source": [
    "b[0]"
   ]
  },
  {
   "cell_type": "code",
   "execution_count": 85,
   "id": "67d3ac38",
   "metadata": {},
   "outputs": [
    {
     "data": {
      "text/plain": [
       "array([4, 5, 6])"
      ]
     },
     "execution_count": 85,
     "metadata": {},
     "output_type": "execute_result"
    }
   ],
   "source": [
    "b[1]"
   ]
  },
  {
   "cell_type": "code",
   "execution_count": 86,
   "id": "60e8c347",
   "metadata": {},
   "outputs": [],
   "source": [
    "# This line gives us error\n",
    "# b[2]"
   ]
  },
  {
   "cell_type": "code",
   "execution_count": 87,
   "id": "c53cc7e4",
   "metadata": {},
   "outputs": [
    {
     "data": {
      "text/plain": [
       "array([[1, 2, 3],\n",
       "       [4, 5, 6]])"
      ]
     },
     "execution_count": 87,
     "metadata": {},
     "output_type": "execute_result"
    }
   ],
   "source": [
    "# Just like python indexing The ':' operators means you want everything\n",
    "b[:]"
   ]
  },
  {
   "cell_type": "code",
   "execution_count": 88,
   "id": "bcf2b644",
   "metadata": {},
   "outputs": [
    {
     "data": {
      "text/plain": [
       "array([1, 4])"
      ]
     },
     "execution_count": 88,
     "metadata": {},
     "output_type": "execute_result"
    }
   ],
   "source": [
    "b[:, 0]"
   ]
  },
  {
   "cell_type": "code",
   "execution_count": 89,
   "id": "ec3fd764",
   "metadata": {},
   "outputs": [
    {
     "data": {
      "text/plain": [
       "np.int64(1)"
      ]
     },
     "execution_count": 89,
     "metadata": {},
     "output_type": "execute_result"
    }
   ],
   "source": [
    "b[0, 0]"
   ]
  },
  {
   "cell_type": "markdown",
   "id": "1f6a070e",
   "metadata": {},
   "source": [
    "## Parallelization "
   ]
  },
  {
   "cell_type": "code",
   "execution_count": 90,
   "id": "afe80be3",
   "metadata": {},
   "outputs": [
    {
     "data": {
      "text/plain": [
       "array([[ 2,  4,  6],\n",
       "       [ 8, 10, 12]])"
      ]
     },
     "execution_count": 90,
     "metadata": {},
     "output_type": "execute_result"
    }
   ],
   "source": [
    "b * 2"
   ]
  },
  {
   "cell_type": "code",
   "execution_count": 91,
   "id": "17e789d8",
   "metadata": {},
   "outputs": [
    {
     "data": {
      "text/plain": [
       "array([[ 2,  4,  6],\n",
       "       [ 8, 10, 12]])"
      ]
     },
     "execution_count": 91,
     "metadata": {},
     "output_type": "execute_result"
    }
   ],
   "source": [
    "for i in range(2):\n",
    "    for j in range(3):\n",
    "        b[i, j] = b[i, j] * 2\n",
    "\n",
    "b\n",
    "\n",
    "# ! We should not do this\n",
    "# It rewrote b but the first one didn't do this\n",
    "# First one made a copy cut the second actually rewrote b"
   ]
  },
  {
   "cell_type": "code",
   "execution_count": 92,
   "id": "273d879e",
   "metadata": {},
   "outputs": [
    {
     "data": {
      "text/plain": [
       "array([[False, False, False],\n",
       "       [ True,  True,  True]])"
      ]
     },
     "execution_count": 92,
     "metadata": {},
     "output_type": "execute_result"
    }
   ],
   "source": [
    "b > 7"
   ]
  },
  {
   "cell_type": "code",
   "execution_count": 93,
   "id": "9c2a61a9",
   "metadata": {},
   "outputs": [
    {
     "data": {
      "text/plain": [
       "array([ 8, 10, 12])"
      ]
     },
     "execution_count": 93,
     "metadata": {},
     "output_type": "execute_result"
    }
   ],
   "source": [
    "b[b > 7]"
   ]
  }
 ],
 "metadata": {
  "kernelspec": {
   "display_name": "venv",
   "language": "python",
   "name": "python3"
  },
  "language_info": {
   "codemirror_mode": {
    "name": "ipython",
    "version": 3
   },
   "file_extension": ".py",
   "mimetype": "text/x-python",
   "name": "python",
   "nbconvert_exporter": "python",
   "pygments_lexer": "ipython3",
   "version": "3.13.3"
  }
 },
 "nbformat": 4,
 "nbformat_minor": 5
}
